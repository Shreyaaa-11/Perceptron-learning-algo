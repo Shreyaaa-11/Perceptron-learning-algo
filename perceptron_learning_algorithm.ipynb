{
  "nbformat": 4,
  "nbformat_minor": 0,
  "metadata": {
    "colab": {
      "provenance": [],
      "authorship_tag": "ABX9TyPpbKsM7PASXftcV7hUV7rM",
      "include_colab_link": true
    },
    "kernelspec": {
      "name": "python3",
      "display_name": "Python 3"
    },
    "language_info": {
      "name": "python"
    }
  },
  "cells": [
    {
      "cell_type": "markdown",
      "metadata": {
        "id": "view-in-github",
        "colab_type": "text"
      },
      "source": [
        "<a href=\"https://colab.research.google.com/github/Shreyaaa-11/Perceptron-learning-algo/blob/main/perceptron_learning_algorithm.ipynb\" target=\"_parent\"><img src=\"https://colab.research.google.com/assets/colab-badge.svg\" alt=\"Open In Colab\"/></a>"
      ]
    },
    {
      "cell_type": "code",
      "execution_count": null,
      "metadata": {
        "colab": {
          "base_uri": "https://localhost:8080/"
        },
        "id": "gAnVwndc0wjk",
        "outputId": "1792f71a-7c8a-48bc-fb1e-f8a6744f53e6"
      },
      "outputs": [
        {
          "output_type": "stream",
          "name": "stdout",
          "text": [
            "Epoch 1\n",
            "  Input: [   25 50000 60000], Predicted: 1, Target: 0, Weights: [-1.75580895e+00 -4.99974160e+03 -5.99977003e+03], Bias: 0.528777713105049\n",
            "  Input: [   30 70000 80000], Predicted: 0, Target: 0, Weights: [-1.75580895e+00 -4.99974160e+03 -5.99977003e+03], Bias: 0.528777713105049\n",
            "  Input: [    35  90000 100000], Predicted: 0, Target: 1, Weights: [1.74419105e+00 4.00025840e+03 4.00022997e+03], Bias: 0.6287777131050489\n",
            "  Input: [    40 100000 120000], Predicted: 1, Target: 1, Weights: [1.74419105e+00 4.00025840e+03 4.00022997e+03], Bias: 0.6287777131050489\n",
            "Epoch 2\n",
            "  Input: [   25 50000 60000], Predicted: 1, Target: 0, Weights: [-7.55808950e-01 -9.99741599e+02 -1.99977003e+03], Bias: 0.528777713105049\n",
            "  Input: [   30 70000 80000], Predicted: 0, Target: 0, Weights: [-7.55808950e-01 -9.99741599e+02 -1.99977003e+03], Bias: 0.528777713105049\n",
            "  Input: [    35  90000 100000], Predicted: 0, Target: 1, Weights: [2.74419105e+00 8.00025840e+03 8.00022997e+03], Bias: 0.6287777131050489\n",
            "  Input: [    40 100000 120000], Predicted: 1, Target: 1, Weights: [2.74419105e+00 8.00025840e+03 8.00022997e+03], Bias: 0.6287777131050489\n",
            "Epoch 3\n",
            "  Input: [   25 50000 60000], Predicted: 1, Target: 0, Weights: [2.44191050e-01 3.00025840e+03 2.00022997e+03], Bias: 0.528777713105049\n",
            "  Input: [   30 70000 80000], Predicted: 1, Target: 0, Weights: [-2.75580895e+00 -3.99974160e+03 -5.99977003e+03], Bias: 0.428777713105049\n",
            "  Input: [    35  90000 100000], Predicted: 0, Target: 1, Weights: [7.44191050e-01 5.00025840e+03 4.00022997e+03], Bias: 0.528777713105049\n",
            "  Input: [    40 100000 120000], Predicted: 1, Target: 1, Weights: [7.44191050e-01 5.00025840e+03 4.00022997e+03], Bias: 0.528777713105049\n",
            "Epoch 4\n",
            "  Input: [   25 50000 60000], Predicted: 1, Target: 0, Weights: [-1.75580895e+00  2.58400816e-01 -1.99977003e+03], Bias: 0.428777713105049\n",
            "  Input: [   30 70000 80000], Predicted: 0, Target: 0, Weights: [-1.75580895e+00  2.58400816e-01 -1.99977003e+03], Bias: 0.428777713105049\n",
            "  Input: [    35  90000 100000], Predicted: 0, Target: 1, Weights: [1.74419105e+00 9.00025840e+03 8.00022997e+03], Bias: 0.528777713105049\n",
            "  Input: [    40 100000 120000], Predicted: 1, Target: 1, Weights: [1.74419105e+00 9.00025840e+03 8.00022997e+03], Bias: 0.528777713105049\n",
            "Epoch 5\n",
            "  Input: [   25 50000 60000], Predicted: 1, Target: 0, Weights: [-7.55808950e-01  4.00025840e+03  2.00022997e+03], Bias: 0.428777713105049\n",
            "  Input: [   30 70000 80000], Predicted: 1, Target: 0, Weights: [-3.75580895e+00 -2.99974160e+03 -5.99977003e+03], Bias: 0.328777713105049\n",
            "  Input: [    35  90000 100000], Predicted: 0, Target: 1, Weights: [-2.55808950e-01  6.00025840e+03  4.00022997e+03], Bias: 0.428777713105049\n",
            "  Input: [    40 100000 120000], Predicted: 1, Target: 1, Weights: [-2.55808950e-01  6.00025840e+03  4.00022997e+03], Bias: 0.428777713105049\n",
            "Epoch 6\n",
            "  Input: [   25 50000 60000], Predicted: 1, Target: 0, Weights: [   -2.75580895  1000.25840082 -1999.77002627], Bias: 0.328777713105049\n",
            "  Input: [   30 70000 80000], Predicted: 0, Target: 0, Weights: [   -2.75580895  1000.25840082 -1999.77002627], Bias: 0.328777713105049\n",
            "  Input: [    35  90000 100000], Predicted: 0, Target: 1, Weights: [7.44191050e-01 1.00002584e+04 8.00022997e+03], Bias: 0.428777713105049\n",
            "  Input: [    40 100000 120000], Predicted: 1, Target: 1, Weights: [7.44191050e-01 1.00002584e+04 8.00022997e+03], Bias: 0.428777713105049\n",
            "Epoch 7\n",
            "  Input: [   25 50000 60000], Predicted: 1, Target: 0, Weights: [-1.75580895e+00  5.00025840e+03  2.00022997e+03], Bias: 0.328777713105049\n",
            "  Input: [   30 70000 80000], Predicted: 1, Target: 0, Weights: [-4.75580895e+00 -1.99974160e+03 -5.99977003e+03], Bias: 0.228777713105049\n",
            "  Input: [    35  90000 100000], Predicted: 0, Target: 1, Weights: [-1.25580895e+00  7.00025840e+03  4.00022997e+03], Bias: 0.328777713105049\n",
            "  Input: [    40 100000 120000], Predicted: 1, Target: 1, Weights: [-1.25580895e+00  7.00025840e+03  4.00022997e+03], Bias: 0.328777713105049\n",
            "Epoch 8\n",
            "  Input: [   25 50000 60000], Predicted: 1, Target: 0, Weights: [   -3.75580895  2000.25840082 -1999.77002627], Bias: 0.228777713105049\n",
            "  Input: [   30 70000 80000], Predicted: 0, Target: 0, Weights: [   -3.75580895  2000.25840082 -1999.77002627], Bias: 0.228777713105049\n",
            "  Input: [    35  90000 100000], Predicted: 0, Target: 1, Weights: [-2.55808950e-01  1.10002584e+04  8.00022997e+03], Bias: 0.328777713105049\n",
            "  Input: [    40 100000 120000], Predicted: 1, Target: 1, Weights: [-2.55808950e-01  1.10002584e+04  8.00022997e+03], Bias: 0.328777713105049\n",
            "Epoch 9\n",
            "  Input: [   25 50000 60000], Predicted: 1, Target: 0, Weights: [-2.75580895e+00  6.00025840e+03  2.00022997e+03], Bias: 0.228777713105049\n",
            "  Input: [   30 70000 80000], Predicted: 1, Target: 0, Weights: [-5.75580895e+00 -9.99741599e+02 -5.99977003e+03], Bias: 0.12877771310504899\n",
            "  Input: [    35  90000 100000], Predicted: 0, Target: 1, Weights: [-2.25580895e+00  8.00025840e+03  4.00022997e+03], Bias: 0.228777713105049\n",
            "  Input: [    40 100000 120000], Predicted: 1, Target: 1, Weights: [-2.25580895e+00  8.00025840e+03  4.00022997e+03], Bias: 0.228777713105049\n",
            "Epoch 10\n",
            "  Input: [   25 50000 60000], Predicted: 1, Target: 0, Weights: [   -4.75580895  3000.25840082 -1999.77002627], Bias: 0.12877771310504899\n",
            "  Input: [   30 70000 80000], Predicted: 1, Target: 0, Weights: [-7.75580895e+00 -3.99974160e+03 -9.99977003e+03], Bias: 0.02877771310504898\n",
            "  Input: [    35  90000 100000], Predicted: 0, Target: 1, Weights: [-4.25580895e+00  5.00025840e+03  2.29973727e-01], Bias: 0.12877771310504899\n",
            "  Input: [    40 100000 120000], Predicted: 1, Target: 1, Weights: [-4.25580895e+00  5.00025840e+03  2.29973727e-01], Bias: 0.12877771310504899\n",
            "\n",
            "Trained Weights: [-4.25580895e+00  5.00025840e+03  2.29973727e-01]\n",
            "Trained Bias: 0.12877771310504899\n",
            "Prediction for input [   32 65000 75000]: 1\n"
          ]
        }
      ],
      "source": [
        "#Implementing the perceptron learning algorithm.\n",
        "\n",
        "import numpy as np\n",
        "\n",
        "# Sample dataset (age, income, salary)\n",
        "data = np.array([\n",
        "    [25, 50000, 60000],\n",
        "    [30, 60000, 70000],\n",
        "    [35, 70000, 80000],\n",
        "    [40, 80000, 90000]\n",
        "])\n",
        "\n",
        "# Target values (0 or 1)\n",
        "targets = np.array([0, 0, 1, 1])\n",
        "\n",
        "\n",
        "# Initialize weights and bias\n",
        "weights = np.random.rand(3)\n",
        "bias = np.random.rand()\n",
        "learning_rate = 0.1\n",
        "epochs = 10\n",
        "\n",
        "# Step function\n",
        "def step_function(x):\n",
        "  return 1 if x >= 0 else 0\n",
        "\n",
        "# Perceptron learning algorithm\n",
        "for epoch in range(epochs):\n",
        "  print(f\"Epoch {epoch + 1}:\")\n",
        "  for i in range(len(data)):\n",
        "    # Calculate weighted sum\n",
        "    weighted_sum = np.dot(data[i], weights) + bias\n",
        "    print(f\"  Input: {data[i]}\")\n",
        "    print(f\"  Weighted Sum: {weighted_sum}\")\n",
        "\n",
        "    # Predicted output\n",
        "    predicted = step_function(weighted_sum)\n",
        "    print(f\"  Target: {targets[i]}, Predicted: {predicted}\")\n",
        "\n",
        "    # Update weights and bias\n",
        "    error = targets[i] - predicted\n",
        "    weights = weights + learning_rate * error * data[i]\n",
        "    bias = bias + learning_rate * error\n",
        "    print(f\"  Updated Weights: {weights}\")\n",
        "    print(f\"  Updated Bias: {bias}\")\n",
        "\n",
        "# Example prediction\n",
        "example_data = np.array([32, 65000, 75000])\n",
        "example_weighted_sum = np.dot(example_data, weights) + bias\n",
        "example_prediction = step_function(example_weighted_sum)\n",
        "print(\"\\nExample Prediction:\")\n",
        "print(f\"Input: {example_data}\")\n",
        "print(f\"Predicted: {example_prediction}\")\n"
      ]
    }
  ]
}